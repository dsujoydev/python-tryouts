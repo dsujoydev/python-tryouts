{
  "nbformat": 4,
  "nbformat_minor": 0,
  "metadata": {
    "colab": {
      "provenance": []
    },
    "kernelspec": {
      "name": "python3",
      "display_name": "Python 3"
    },
    "language_info": {
      "name": "python"
    }
  },
  "cells": [
    {
      "cell_type": "code",
      "execution_count": 1,
      "metadata": {
        "id": "3lmRT-7DaWZB"
      },
      "outputs": [],
      "source": [
        "def calculate(num1, num2, operator):\n",
        "    if operator == '+':\n",
        "        return num1 + num2\n",
        "    elif operator == '-':\n",
        "        if num2 > num1:\n",
        "            return num2 - num1\n",
        "        return num1 - num2\n",
        "    elif operator == '*':\n",
        "        return num1 * num2\n",
        "    elif operator == '/':\n",
        "        if num2 == 0:\n",
        "            raise ValueError(\"Cannot divide by zero.\")\n",
        "        return num1 / num2\n",
        "    else:\n",
        "        raise ValueError(f\"Invalid operator '{operator}'. Supported operators: +, -, *, /\")\n",
        ""
      ]
    },
    {
      "cell_type": "code",
      "source": [
        "def get_input() :\n",
        "    num1 = float(input(\"Enter the first number: \"))\n",
        "    num2 = float(input(\"Enter the second number: \"))\n",
        "    operator = input(\"Enter the operator (+, -, *, /): \")\n",
        "    return num1, num2, operator\n",
        "\n",
        "def main():\n",
        "    num1, num2, operator = get_input()\n",
        "    result = calculate(num1, num2, operator)\n",
        "    print(f\"The result of {num1} {operator} {num2} is: {result}\")\n",
        "\n",
        "main()"
      ],
      "metadata": {
        "colab": {
          "base_uri": "https://localhost:8080/"
        },
        "id": "tsPDgBxOahLf",
        "outputId": "eb4499ec-97a1-4ee5-d5e8-17d89038ab7f"
      },
      "execution_count": 2,
      "outputs": [
        {
          "output_type": "stream",
          "name": "stdout",
          "text": [
            "Enter the first number: 5\n",
            "Enter the second number: 9\n",
            "Enter the operator (+, -, *, /): +\n",
            "The result of 5.0 + 9.0 is: 14.0\n"
          ]
        }
      ]
    }
  ]
}