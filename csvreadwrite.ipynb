{
  "nbformat": 4,
  "nbformat_minor": 0,
  "metadata": {
    "colab": {
      "provenance": [],
      "authorship_tag": "ABX9TyOv4ZkugzffSWuNMLwP8A6I",
      "include_colab_link": true
    },
    "kernelspec": {
      "name": "python3",
      "display_name": "Python 3"
    },
    "language_info": {
      "name": "python"
    }
  },
  "cells": [
    {
      "cell_type": "markdown",
      "metadata": {
        "id": "view-in-github",
        "colab_type": "text"
      },
      "source": [
        "<a href=\"https://colab.research.google.com/github/dsujoydev/python-tryouts/blob/main/csvreadwrite.ipynb\" target=\"_parent\"><img src=\"https://colab.research.google.com/assets/colab-badge.svg\" alt=\"Open In Colab\"/></a>"
      ]
    },
    {
      "cell_type": "code",
      "execution_count": 6,
      "metadata": {
        "colab": {
          "base_uri": "https://localhost:8080/"
        },
        "id": "acGxBzNQGonk",
        "outputId": "8f981f38-9d4e-4839-dc1d-60f3f7455fed"
      },
      "outputs": [
        {
          "output_type": "stream",
          "name": "stdout",
          "text": [
            "--2024-11-18 12:16:02--  https://raw.githubusercontent.com/dsujoydev/python-tryouts/refs/heads/main/sujoyMath.py\n",
            "Resolving raw.githubusercontent.com (raw.githubusercontent.com)... 185.199.111.133, 185.199.108.133, 185.199.110.133, ...\n",
            "Connecting to raw.githubusercontent.com (raw.githubusercontent.com)|185.199.111.133|:443... connected.\n",
            "HTTP request sent, awaiting response... 200 OK\n",
            "Length: 237 [text/plain]\n",
            "Saving to: ‘sujoyMath.py’\n",
            "\n",
            "sujoyMath.py        100%[===================>]     237  --.-KB/s    in 0s      \n",
            "\n",
            "2024-11-18 12:16:02 (7.23 MB/s) - ‘sujoyMath.py’ saved [237/237]\n",
            "\n",
            "PI for digit = 12 :  3.14159265359\n",
            "PI for digit = 24 :  3.141592653589793238462643\n",
            "PI for digit = 36 :  3.141592653589793238462643383279502884\n",
            "PI for digit = 50 :  3.14159265358979323846264338327950288419716939937511\n",
            "PI for digit = 60 :  3.141592653589793238462643383279502884197169399375105820974945\n"
          ]
        }
      ],
      "source": [
        "import pandas as pd\n",
        "import sys\n",
        "\n",
        "!wget -O sujoyMath.py https://raw.githubusercontent.com/dsujoydev/python-tryouts/refs/heads/main/sujoyMath.py\n",
        "\n",
        "sys.path.append('/content/')\n",
        "\n",
        "import sujoyMath as sm\n",
        "\n",
        "df = pd.read_csv('https://raw.githubusercontent.com/dsujoydev/python-tryouts/refs/heads/main/pandaTry.csv')\n",
        "for i in df:\n",
        "  # print(i, end = \"\\n\")\n",
        "  print(\"PI for digit =\", i, \": \", sm.print_pi_to_n_digits(int(i)))\n",
        "\n",
        "\n",
        "pi_val_list = []\n",
        "for i in df:\n",
        "  pi_val_list.append(sm.print_pi_to_n_digits(int(i)))\n",
        "\n",
        "output_df = pd.DataFrame(pi_val_list, columns=[\"PI\"])\n",
        "output_df.to_csv('output.csv', index=False)"
      ]
    }
  ]
}