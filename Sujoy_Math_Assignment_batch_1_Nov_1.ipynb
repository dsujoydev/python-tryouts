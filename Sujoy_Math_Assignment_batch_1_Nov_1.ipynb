{
  "nbformat": 4,
  "nbformat_minor": 0,
  "metadata": {
    "colab": {
      "provenance": [],
      "authorship_tag": "ABX9TyN6qlR3MiZBxlPAFCK1pDBd",
      "include_colab_link": true
    },
    "kernelspec": {
      "name": "python3",
      "display_name": "Python 3"
    },
    "language_info": {
      "name": "python"
    }
  },
  "cells": [
    {
      "cell_type": "markdown",
      "metadata": {
        "id": "view-in-github",
        "colab_type": "text"
      },
      "source": [
        "<a href=\"https://colab.research.google.com/github/dsujoydev/python-tryouts/blob/main/Sujoy_Math_Assignment_batch_1_Nov_1.ipynb\" target=\"_parent\"><img src=\"https://colab.research.google.com/assets/colab-badge.svg\" alt=\"Open In Colab\"/></a>"
      ]
    },
    {
      "cell_type": "code",
      "source": [
        "\n",
        "!wget -O sujoyMath.py https://raw.githubusercontent.com/dsujoydev/python-tryouts/refs/heads/main/sujoyMath.py\n",
        "\n",
        "import sujoyMath\n",
        "\n",
        "numberOfDigits = int(input(\"Enter the number of decimal places for π: \"))\n",
        "bigPy = sujoyMath.print_pi_to_n_digits(numberOfDigits)\n",
        "print(bigPy)"
      ],
      "metadata": {
        "colab": {
          "base_uri": "https://localhost:8080/"
        },
        "id": "7j61TldzYIOZ",
        "outputId": "c4e2c6b7-d760-4655-96a2-d56635866ec9"
      },
      "execution_count": 19,
      "outputs": [
        {
          "output_type": "stream",
          "name": "stdout",
          "text": [
            "--2024-11-01 11:00:25--  https://raw.githubusercontent.com/dsujoydev/python-tryouts/refs/heads/main/sujoyMath.py\n",
            "Resolving raw.githubusercontent.com (raw.githubusercontent.com)... 185.199.110.133, 185.199.109.133, 185.199.108.133, ...\n",
            "Connecting to raw.githubusercontent.com (raw.githubusercontent.com)|185.199.110.133|:443... connected.\n",
            "HTTP request sent, awaiting response... 200 OK\n",
            "Length: 237 [text/plain]\n",
            "Saving to: ‘sujoyMath.py’\n",
            "\n",
            "\rsujoyMath.py          0%[                    ]       0  --.-KB/s               \rsujoyMath.py        100%[===================>]     237  --.-KB/s    in 0s      \n",
            "\n",
            "2024-11-01 11:00:26 (16.9 MB/s) - ‘sujoyMath.py’ saved [237/237]\n",
            "\n",
            "Enter the number of decimal places for π: 80\n",
            "3.141592653589793238462643383279502884197169399375105820974944592307816406286209\n"
          ]
        }
      ]
    }
  ]
}